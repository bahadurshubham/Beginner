{
  "nbformat": 4,
  "nbformat_minor": 0,
  "metadata": {
    "colab": {
      "name": "heartVista_take_home.ipynb",
      "provenance": [],
      "collapsed_sections": [],
      "authorship_tag": "ABX9TyMDXjKTw7jwJTCyaWVqCVex",
      "include_colab_link": true
    },
    "kernelspec": {
      "name": "python3",
      "display_name": "Python 3"
    },
    "language_info": {
      "name": "python"
    }
  },
  "cells": [
    {
      "cell_type": "markdown",
      "metadata": {
        "id": "view-in-github",
        "colab_type": "text"
      },
      "source": [
        "<a href=\"https://colab.research.google.com/github/bahadurshubham/Darknet/blob/master/heartVista_take_home.ipynb\" target=\"_parent\"><img src=\"https://colab.research.google.com/assets/colab-badge.svg\" alt=\"Open In Colab\"/></a>"
      ]
    },
    {
      "cell_type": "code",
      "source": [
        "import numpy as np\n",
        "import matplotlib.pyplot as plt"
      ],
      "metadata": {
        "id": "hLOSQj3h0Y3H"
      },
      "execution_count": 2,
      "outputs": []
    },
    {
      "cell_type": "code",
      "source": [
        "# gaussian blur filter\n",
        "filter = np.array([\n",
        "  [1/16, 1/8, 1/16],\n",
        "  [1/8, 1/4, 1/8],\n",
        "  [1/16, 1/8, 1/16],\n",
        "]).astype('float').T\n",
        "\n",
        "\n",
        "print(filter)"
      ],
      "metadata": {
        "colab": {
          "base_uri": "https://localhost:8080/"
        },
        "id": "uMhclTjSFDJZ",
        "outputId": "99600d71-e908-496e-aa6b-ec6ac2de1ccd"
      },
      "execution_count": 3,
      "outputs": [
        {
          "output_type": "stream",
          "name": "stdout",
          "text": [
            "[[0.0625 0.125  0.0625]\n",
            " [0.125  0.25   0.125 ]\n",
            " [0.0625 0.125  0.0625]]\n"
          ]
        }
      ]
    },
    {
      "cell_type": "code",
      "source": [
        "\n",
        "#kernel = np.array([[1,0,-1],[1,0,-1],[1,0,-1]]).astype('float').T\n",
        "# 9x11 single channel image of intensities\n",
        "image = np.array([\n",
        "  [1, 2, 3, 4, 5, 6, 7, 8, 9],\n",
        "  [1, 2, 3, 4, 5, 6, 7, 8, 9],\n",
        "  [1, 2, 3, 4, 5, 6, 7, 8, 9],\n",
        "  [1, 2, 3, 4, 5, 6, 7, 8, 9],\n",
        "  [1, 2, 3, 4, 5, 6, 7, 8, 9],\n",
        "  [1, 2, 3, 4, 5, 6, 7, 8, 9],\n",
        "  [1, 2, 3, 4, 5, 6, 7, 8, 9],\n",
        "  [1, 2, 3, 4, 5, 6, 7, 8, 9],\n",
        "  [1, 2, 3, 4, 5, 6, 7, 8, 9],\n",
        "  [1, 2, 3, 4, 5, 6, 7, 8, 9],\n",
        "  [1, 2, 3, 4, 5, 6, 7, 8, 9],\n",
        "])\n",
        "\n",
        "def print_image(image):\n",
        "  for row in image:\n",
        "    print(row)  \n",
        "\n",
        "# apply `filter` to `image`\n",
        "# return the blurred image\n",
        "\n",
        "\n",
        "def apply_filter(image, filter):\n",
        "  # pad the input image with zeroes\n",
        "  # start with an 2d array of zeroes that can accommodate the embedded image\n",
        "  rows = len(image)\n",
        "  cols = len(image[0])\n",
        "  pad_rows = len(filter) // 2\n",
        "  pad_cols = len(filter[0]) // 2\n",
        "  padded_image = [\n",
        "    [0 for i in range(cols + pad_cols * 2)]\n",
        "     for j in range(rows + pad_rows * 2)\n",
        "  ]\n",
        "  \n",
        "  # fill the interior with our image\n",
        "  for i in range(pad_rows, rows + pad_rows):\n",
        "    for j in range(pad_cols, cols + pad_cols):\n",
        "      padded_image[i][j] = image[i - 1][j - 1]\n",
        "\n",
        "  # create an output image, the same size as the input\n",
        "  output = [\n",
        "    [0 for i in range(cols)]\n",
        "     for j in range(rows)\n",
        "  ]\n",
        "  for i in range(0, rows):\n",
        "    for j in range(0, cols):\n",
        "      \n",
        "      # apply the patch to the appropriate pixel\n",
        "      sum = 0\n",
        "      for y in range(0, len(filter)):\n",
        "        for x in range(0, len(filter[0])):\n",
        "          # translate to the appropriate position within the padded image \n",
        "          image_i = i + y\n",
        "          image_j = j + x\n",
        "          sum += padded_image[image_i][image_j] * filter[y][x]\n",
        "      output[i][j] = sum\n",
        "  return output\n",
        "\n",
        "# apply the filter to the image\n",
        "blurred_image = apply_filter(image, filter)\n",
        "\n",
        "# ensure the blurred_image matches the expected_image\n",
        "expected_image = [\n",
        "  [0.75, 1.5, 2.25, 3.0, 3.75, 4.5, 5.25, 6.0, 4.875],\n",
        "  [1.0, 2.0, 3.0, 4.0, 5.0, 6.0, 7.0, 8.0, 6.5],\n",
        "  [1.0, 2.0, 3.0, 4.0, 5.0, 6.0, 7.0, 8.0, 6.5],\n",
        "  [1.0, 2.0, 3.0, 4.0, 5.0, 6.0, 7.0, 8.0, 6.5],\n",
        "  [1.0, 2.0, 3.0, 4.0, 5.0, 6.0, 7.0, 8.0, 6.5],\n",
        "  [1.0, 2.0, 3.0, 4.0, 5.0, 6.0, 7.0, 8.0, 6.5],\n",
        "  [1.0, 2.0, 3.0, 4.0, 5.0, 6.0, 7.0, 8.0, 6.5],\n",
        "  [1.0, 2.0, 3.0, 4.0, 5.0, 6.0, 7.0, 8.0, 6.5],\n",
        "  [1.0, 2.0, 3.0, 4.0, 5.0, 6.0, 7.0, 8.0, 6.5],\n",
        "  [1.0, 2.0, 3.0, 4.0, 5.0, 6.0, 7.0, 8.0, 6.5],\n",
        "  [0.75, 1.5, 2.25, 3.0, 3.75, 4.5, 5.25, 6.0, 4.875]\n",
        "]\n",
        "\n",
        "print(\"blurred_image == expected_image?\", blurred_image == expected_image)"
      ],
      "metadata": {
        "colab": {
          "base_uri": "https://localhost:8080/"
        },
        "id": "DBDyzBn7jBNH",
        "outputId": "0a3e3122-02a7-472a-8a15-319c00b84fcb"
      },
      "execution_count": 4,
      "outputs": [
        {
          "output_type": "stream",
          "name": "stdout",
          "text": [
            "blurred_image == expected_image? True\n"
          ]
        }
      ]
    },
    {
      "cell_type": "code",
      "source": [
        "rows = len(image)\n",
        "cols = len(image[0])\n",
        "pad_rows = len(filter) // 2\n",
        "pad_cols = len(filter[0]) // 2\n",
        "padded_image = [\n",
        "    [0 for i in range(cols + pad_cols * 2)]\n",
        "     for j in range(rows + pad_rows * 2)\n",
        "]\n",
        "for i in range(pad_rows, rows + pad_rows):\n",
        "  for j in range(pad_cols, cols + pad_cols):\n",
        "    padded_image[i][j] = image[i - 1][j - 1]\n",
        "    \n",
        "k = len(filter)\n",
        "padded_image = np.array(padded_image)\n",
        "def numpy_conv(image,filter):\n",
        "  im_out = np.zeros((padded_image.shape))\n",
        "  for y in range(k//2, padded_image.shape[0]-k//2):\n",
        "    for x in range(k//2, padded_image.shape[1]-k//2):\n",
        "      im_out[y,x] = (padded_image[y-k//2:y+k//2+1,x-k//2:x+k//2+1]*filter).sum()\n",
        "  \n",
        "  return(im_out[k//2:rows+1, k//2:cols+1])\n",
        "\n",
        "\n",
        "numpy_image = numpy_conv(image,filter)\n",
        "\n",
        "print(\"numpy_image == expected_image?\", numpy_image == expected_image)"
      ],
      "metadata": {
        "colab": {
          "base_uri": "https://localhost:8080/"
        },
        "id": "wY91StjCvWo3",
        "outputId": "82195976-33d3-414d-9e6d-a332720d4702"
      },
      "execution_count": 58,
      "outputs": [
        {
          "output_type": "stream",
          "name": "stdout",
          "text": [
            "numpy_image == expected_image? [[ True  True  True  True  True  True  True  True  True]\n",
            " [ True  True  True  True  True  True  True  True  True]\n",
            " [ True  True  True  True  True  True  True  True  True]\n",
            " [ True  True  True  True  True  True  True  True  True]\n",
            " [ True  True  True  True  True  True  True  True  True]\n",
            " [ True  True  True  True  True  True  True  True  True]\n",
            " [ True  True  True  True  True  True  True  True  True]\n",
            " [ True  True  True  True  True  True  True  True  True]\n",
            " [ True  True  True  True  True  True  True  True  True]\n",
            " [ True  True  True  True  True  True  True  True  True]\n",
            " [ True  True  True  True  True  True  True  True  True]]\n"
          ]
        }
      ]
    },
    {
      "cell_type": "code",
      "source": [
        ""
      ],
      "metadata": {
        "id": "FWbM-t5j4Z2s"
      },
      "execution_count": null,
      "outputs": []
    }
  ]
}