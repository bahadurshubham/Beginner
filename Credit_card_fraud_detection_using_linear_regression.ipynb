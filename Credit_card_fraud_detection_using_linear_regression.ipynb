{
  "nbformat": 4,
  "nbformat_minor": 0,
  "metadata": {
    "colab": {
      "name": "Credit_card_fraud_detection_using_linear_regression.ipynb",
      "provenance": [],
      "collapsed_sections": [],
      "authorship_tag": "ABX9TyM54sfwyXy0i4a0Ku5JIbSW",
      "include_colab_link": true
    },
    "kernelspec": {
      "name": "python3",
      "display_name": "Python 3"
    },
    "language_info": {
      "name": "python"
    }
  },
  "cells": [
    {
      "cell_type": "markdown",
      "metadata": {
        "id": "view-in-github",
        "colab_type": "text"
      },
      "source": [
        "<a href=\"https://colab.research.google.com/github/bahadurshubham/Darknet/blob/master/Credit_card_fraud_detection_using_linear_regression.ipynb\" target=\"_parent\"><img src=\"https://colab.research.google.com/assets/colab-badge.svg\" alt=\"Open In Colab\"/></a>"
      ]
    },
    {
      "cell_type": "code",
      "execution_count": null,
      "metadata": {
        "colab": {
          "base_uri": "https://localhost:8080/"
        },
        "id": "nGtByKjqnFNw",
        "outputId": "ab7b5210-5179-4a32-bef8-e5ab101f0e6b"
      },
      "outputs": [
        {
          "output_type": "execute_result",
          "data": {
            "text/plain": [
              "0    284315\n",
              "1       492\n",
              "Name: Class, dtype: int64"
            ]
          },
          "metadata": {},
          "execution_count": 1
        }
      ],
      "source": [
        "#importing the datasets and displaying the value contents \n",
        "import pandas as pd\n",
        "import numpy as np\n",
        "df = pd.read_csv('creditcard.csv')\n",
        "df['Class'].value_counts()"
      ]
    },
    {
      "cell_type": "code",
      "source": [
        "#sampling the datatsets and changing the index of the datasets so as to be able to proprely distinguish the datasets \n",
        "df = df.sample(frac=1, random_state=1)\n",
        "df = df.reset_index(drop=True)\n",
        "df.head()"
      ],
      "metadata": {
        "colab": {
          "base_uri": "https://localhost:8080/",
          "height": 299
        },
        "id": "NHdlnjsBsdWu",
        "outputId": "9724134c-869c-433f-f37e-a72af6cbadb6"
      },
      "execution_count": null,
      "outputs": [
        {
          "output_type": "execute_result",
          "data": {
            "text/plain": [
              "       Time        V1        V2        V3        V4        V5        V6  \\\n",
              "0  119907.0 -0.611712 -0.769705 -0.149759 -0.224877  2.028577 -2.019887   \n",
              "1   78340.0 -0.814682  1.319219  1.329415  0.027273 -0.284871 -0.653985   \n",
              "2   82382.0 -0.318193  1.118618  0.969864 -0.127052  0.569563 -0.532484   \n",
              "3   31717.0 -1.328271  1.018378  1.775426 -1.574193 -0.117696 -0.457733   \n",
              "4   80923.0  1.276712  0.617120 -0.578014  0.879173  0.061706 -1.472002   \n",
              "\n",
              "         V7        V8        V9  ...       V21       V22       V23       V24  \\\n",
              "0  0.292491 -0.523020  0.358468  ... -0.075208  0.045536  0.380739  0.023440   \n",
              "1  0.321552  0.435975 -0.704298  ... -0.128619 -0.368565  0.090660  0.401147   \n",
              "2  0.706252 -0.064966 -0.463271  ... -0.305402 -0.774704 -0.123884 -0.495687   \n",
              "3  0.681867 -0.031641  0.383872  ... -0.220815 -0.419013 -0.239197  0.009967   \n",
              "4  0.373692 -0.287204 -0.084482  ... -0.160161 -0.430404 -0.076738  0.258708   \n",
              "\n",
              "        V25       V26       V27       V28  Amount  Class  \n",
              "0 -2.220686 -0.201146  0.066501  0.221180    1.79      0  \n",
              "1 -0.261034  0.080621  0.162427  0.059456    1.98      0  \n",
              "2 -0.018148  0.121679  0.249050  0.092516    0.89      0  \n",
              "3  0.232829  0.814177  0.098797 -0.004273   15.98      0  \n",
              "4  0.552170  0.370701 -0.034255  0.041709    0.76      0  \n",
              "\n",
              "[5 rows x 31 columns]"
            ],
            "text/html": [
              "\n",
              "  <div id=\"df-3ebc0754-4a92-4e0b-98e6-0beba5db4d83\">\n",
              "    <div class=\"colab-df-container\">\n",
              "      <div>\n",
              "<style scoped>\n",
              "    .dataframe tbody tr th:only-of-type {\n",
              "        vertical-align: middle;\n",
              "    }\n",
              "\n",
              "    .dataframe tbody tr th {\n",
              "        vertical-align: top;\n",
              "    }\n",
              "\n",
              "    .dataframe thead th {\n",
              "        text-align: right;\n",
              "    }\n",
              "</style>\n",
              "<table border=\"1\" class=\"dataframe\">\n",
              "  <thead>\n",
              "    <tr style=\"text-align: right;\">\n",
              "      <th></th>\n",
              "      <th>Time</th>\n",
              "      <th>V1</th>\n",
              "      <th>V2</th>\n",
              "      <th>V3</th>\n",
              "      <th>V4</th>\n",
              "      <th>V5</th>\n",
              "      <th>V6</th>\n",
              "      <th>V7</th>\n",
              "      <th>V8</th>\n",
              "      <th>V9</th>\n",
              "      <th>...</th>\n",
              "      <th>V21</th>\n",
              "      <th>V22</th>\n",
              "      <th>V23</th>\n",
              "      <th>V24</th>\n",
              "      <th>V25</th>\n",
              "      <th>V26</th>\n",
              "      <th>V27</th>\n",
              "      <th>V28</th>\n",
              "      <th>Amount</th>\n",
              "      <th>Class</th>\n",
              "    </tr>\n",
              "  </thead>\n",
              "  <tbody>\n",
              "    <tr>\n",
              "      <th>0</th>\n",
              "      <td>119907.0</td>\n",
              "      <td>-0.611712</td>\n",
              "      <td>-0.769705</td>\n",
              "      <td>-0.149759</td>\n",
              "      <td>-0.224877</td>\n",
              "      <td>2.028577</td>\n",
              "      <td>-2.019887</td>\n",
              "      <td>0.292491</td>\n",
              "      <td>-0.523020</td>\n",
              "      <td>0.358468</td>\n",
              "      <td>...</td>\n",
              "      <td>-0.075208</td>\n",
              "      <td>0.045536</td>\n",
              "      <td>0.380739</td>\n",
              "      <td>0.023440</td>\n",
              "      <td>-2.220686</td>\n",
              "      <td>-0.201146</td>\n",
              "      <td>0.066501</td>\n",
              "      <td>0.221180</td>\n",
              "      <td>1.79</td>\n",
              "      <td>0</td>\n",
              "    </tr>\n",
              "    <tr>\n",
              "      <th>1</th>\n",
              "      <td>78340.0</td>\n",
              "      <td>-0.814682</td>\n",
              "      <td>1.319219</td>\n",
              "      <td>1.329415</td>\n",
              "      <td>0.027273</td>\n",
              "      <td>-0.284871</td>\n",
              "      <td>-0.653985</td>\n",
              "      <td>0.321552</td>\n",
              "      <td>0.435975</td>\n",
              "      <td>-0.704298</td>\n",
              "      <td>...</td>\n",
              "      <td>-0.128619</td>\n",
              "      <td>-0.368565</td>\n",
              "      <td>0.090660</td>\n",
              "      <td>0.401147</td>\n",
              "      <td>-0.261034</td>\n",
              "      <td>0.080621</td>\n",
              "      <td>0.162427</td>\n",
              "      <td>0.059456</td>\n",
              "      <td>1.98</td>\n",
              "      <td>0</td>\n",
              "    </tr>\n",
              "    <tr>\n",
              "      <th>2</th>\n",
              "      <td>82382.0</td>\n",
              "      <td>-0.318193</td>\n",
              "      <td>1.118618</td>\n",
              "      <td>0.969864</td>\n",
              "      <td>-0.127052</td>\n",
              "      <td>0.569563</td>\n",
              "      <td>-0.532484</td>\n",
              "      <td>0.706252</td>\n",
              "      <td>-0.064966</td>\n",
              "      <td>-0.463271</td>\n",
              "      <td>...</td>\n",
              "      <td>-0.305402</td>\n",
              "      <td>-0.774704</td>\n",
              "      <td>-0.123884</td>\n",
              "      <td>-0.495687</td>\n",
              "      <td>-0.018148</td>\n",
              "      <td>0.121679</td>\n",
              "      <td>0.249050</td>\n",
              "      <td>0.092516</td>\n",
              "      <td>0.89</td>\n",
              "      <td>0</td>\n",
              "    </tr>\n",
              "    <tr>\n",
              "      <th>3</th>\n",
              "      <td>31717.0</td>\n",
              "      <td>-1.328271</td>\n",
              "      <td>1.018378</td>\n",
              "      <td>1.775426</td>\n",
              "      <td>-1.574193</td>\n",
              "      <td>-0.117696</td>\n",
              "      <td>-0.457733</td>\n",
              "      <td>0.681867</td>\n",
              "      <td>-0.031641</td>\n",
              "      <td>0.383872</td>\n",
              "      <td>...</td>\n",
              "      <td>-0.220815</td>\n",
              "      <td>-0.419013</td>\n",
              "      <td>-0.239197</td>\n",
              "      <td>0.009967</td>\n",
              "      <td>0.232829</td>\n",
              "      <td>0.814177</td>\n",
              "      <td>0.098797</td>\n",
              "      <td>-0.004273</td>\n",
              "      <td>15.98</td>\n",
              "      <td>0</td>\n",
              "    </tr>\n",
              "    <tr>\n",
              "      <th>4</th>\n",
              "      <td>80923.0</td>\n",
              "      <td>1.276712</td>\n",
              "      <td>0.617120</td>\n",
              "      <td>-0.578014</td>\n",
              "      <td>0.879173</td>\n",
              "      <td>0.061706</td>\n",
              "      <td>-1.472002</td>\n",
              "      <td>0.373692</td>\n",
              "      <td>-0.287204</td>\n",
              "      <td>-0.084482</td>\n",
              "      <td>...</td>\n",
              "      <td>-0.160161</td>\n",
              "      <td>-0.430404</td>\n",
              "      <td>-0.076738</td>\n",
              "      <td>0.258708</td>\n",
              "      <td>0.552170</td>\n",
              "      <td>0.370701</td>\n",
              "      <td>-0.034255</td>\n",
              "      <td>0.041709</td>\n",
              "      <td>0.76</td>\n",
              "      <td>0</td>\n",
              "    </tr>\n",
              "  </tbody>\n",
              "</table>\n",
              "<p>5 rows × 31 columns</p>\n",
              "</div>\n",
              "      <button class=\"colab-df-convert\" onclick=\"convertToInteractive('df-3ebc0754-4a92-4e0b-98e6-0beba5db4d83')\"\n",
              "              title=\"Convert this dataframe to an interactive table.\"\n",
              "              style=\"display:none;\">\n",
              "        \n",
              "  <svg xmlns=\"http://www.w3.org/2000/svg\" height=\"24px\"viewBox=\"0 0 24 24\"\n",
              "       width=\"24px\">\n",
              "    <path d=\"M0 0h24v24H0V0z\" fill=\"none\"/>\n",
              "    <path d=\"M18.56 5.44l.94 2.06.94-2.06 2.06-.94-2.06-.94-.94-2.06-.94 2.06-2.06.94zm-11 1L8.5 8.5l.94-2.06 2.06-.94-2.06-.94L8.5 2.5l-.94 2.06-2.06.94zm10 10l.94 2.06.94-2.06 2.06-.94-2.06-.94-.94-2.06-.94 2.06-2.06.94z\"/><path d=\"M17.41 7.96l-1.37-1.37c-.4-.4-.92-.59-1.43-.59-.52 0-1.04.2-1.43.59L10.3 9.45l-7.72 7.72c-.78.78-.78 2.05 0 2.83L4 21.41c.39.39.9.59 1.41.59.51 0 1.02-.2 1.41-.59l7.78-7.78 2.81-2.81c.8-.78.8-2.07 0-2.86zM5.41 20L4 18.59l7.72-7.72 1.47 1.35L5.41 20z\"/>\n",
              "  </svg>\n",
              "      </button>\n",
              "      \n",
              "  <style>\n",
              "    .colab-df-container {\n",
              "      display:flex;\n",
              "      flex-wrap:wrap;\n",
              "      gap: 12px;\n",
              "    }\n",
              "\n",
              "    .colab-df-convert {\n",
              "      background-color: #E8F0FE;\n",
              "      border: none;\n",
              "      border-radius: 50%;\n",
              "      cursor: pointer;\n",
              "      display: none;\n",
              "      fill: #1967D2;\n",
              "      height: 32px;\n",
              "      padding: 0 0 0 0;\n",
              "      width: 32px;\n",
              "    }\n",
              "\n",
              "    .colab-df-convert:hover {\n",
              "      background-color: #E2EBFA;\n",
              "      box-shadow: 0px 1px 2px rgba(60, 64, 67, 0.3), 0px 1px 3px 1px rgba(60, 64, 67, 0.15);\n",
              "      fill: #174EA6;\n",
              "    }\n",
              "\n",
              "    [theme=dark] .colab-df-convert {\n",
              "      background-color: #3B4455;\n",
              "      fill: #D2E3FC;\n",
              "    }\n",
              "\n",
              "    [theme=dark] .colab-df-convert:hover {\n",
              "      background-color: #434B5C;\n",
              "      box-shadow: 0px 1px 3px 1px rgba(0, 0, 0, 0.15);\n",
              "      filter: drop-shadow(0px 1px 2px rgba(0, 0, 0, 0.3));\n",
              "      fill: #FFFFFF;\n",
              "    }\n",
              "  </style>\n",
              "\n",
              "      <script>\n",
              "        const buttonEl =\n",
              "          document.querySelector('#df-3ebc0754-4a92-4e0b-98e6-0beba5db4d83 button.colab-df-convert');\n",
              "        buttonEl.style.display =\n",
              "          google.colab.kernel.accessAllowed ? 'block' : 'none';\n",
              "\n",
              "        async function convertToInteractive(key) {\n",
              "          const element = document.querySelector('#df-3ebc0754-4a92-4e0b-98e6-0beba5db4d83');\n",
              "          const dataTable =\n",
              "            await google.colab.kernel.invokeFunction('convertToInteractive',\n",
              "                                                     [key], {});\n",
              "          if (!dataTable) return;\n",
              "\n",
              "          const docLinkHtml = 'Like what you see? Visit the ' +\n",
              "            '<a target=\"_blank\" href=https://colab.research.google.com/notebooks/data_table.ipynb>data table notebook</a>'\n",
              "            + ' to learn more about interactive tables.';\n",
              "          element.innerHTML = '';\n",
              "          dataTable['output_type'] = 'display_data';\n",
              "          await google.colab.output.renderOutput(dataTable, element);\n",
              "          const docLink = document.createElement('div');\n",
              "          docLink.innerHTML = docLinkHtml;\n",
              "          element.appendChild(docLink);\n",
              "        }\n",
              "      </script>\n",
              "    </div>\n",
              "  </div>\n",
              "  "
            ]
          },
          "metadata": {},
          "execution_count": 2
        }
      ]
    },
    {
      "cell_type": "code",
      "source": [
        "# Converting the datasets to numpy and distributing the datasets into training and test datasets\n",
        "as_np = df.to_numpy()\n",
        "\n",
        "index = int(len(as_np) * 0.92)\n",
        "X_train , Y_train = as_np[:index, :-1] , as_np[:index , -1]\n",
        "X_test , Y_test = as_np[index: , :-1] , as_np[index: , -1]\n",
        "\n",
        "(X_train.shape , Y_train.shape) , (X_test.shape , Y_test.shape)"
      ],
      "metadata": {
        "colab": {
          "base_uri": "https://localhost:8080/"
        },
        "id": "VQkB2BkMsuVz",
        "outputId": "a3faa339-4e61-4099-99f5-c179295d6341"
      },
      "execution_count": null,
      "outputs": [
        {
          "output_type": "execute_result",
          "data": {
            "text/plain": [
              "(((262022, 30), (262022,)), ((22785, 30), (22785,)))"
            ]
          },
          "metadata": {},
          "execution_count": 3
        }
      ]
    },
    {
      "cell_type": "code",
      "source": [
        "#Scaling the test and training datasets so the datasets are balanced\n",
        "from sklearn.preprocessing import StandardScaler\n",
        "\n",
        "scaler = StandardScaler().fit(X_train)\n",
        "\n",
        "X_train = scaler.transform(X_train)\n",
        "X_test = scaler.transform(X_test)"
      ],
      "metadata": {
        "id": "-LTzHscTxRlP"
      },
      "execution_count": null,
      "outputs": []
    },
    {
      "cell_type": "code",
      "source": [
        "#Implementing the linear regression model on the test datasets for binary classification \n",
        "from sklearn.linear_model import LogisticRegression\n",
        "\n",
        "model = LogisticRegression().fit(X_train , Y_train)\n",
        "test_predictions = model.predict(X_test)\n",
        "\n",
        "pd.value_counts(test_predictions)"
      ],
      "metadata": {
        "colab": {
          "base_uri": "https://localhost:8080/"
        },
        "id": "laXXSL09zllE",
        "outputId": "d58836f6-0f39-48a3-b7d4-68a1c24e4782"
      },
      "execution_count": null,
      "outputs": [
        {
          "output_type": "execute_result",
          "data": {
            "text/plain": [
              "0.0    22757\n",
              "1.0       28\n",
              "dtype: int64"
            ]
          },
          "metadata": {},
          "execution_count": 5
        }
      ]
    },
    {
      "cell_type": "code",
      "source": [
        "# Implementing confusion matrix \n",
        "from sklearn.metrics import confusion_matrix, ConfusionMatrixDisplay\n",
        "\n",
        "cm = confusion_matrix(Y_test, test_predictions , labels=[0,1])\n",
        "disp = ConfusionMatrixDisplay(confusion_matrix=cm ,\n",
        "                              display_labels = ['Not Fraud' , 'Fraud'])\n",
        "\n",
        "disp.plot()"
      ],
      "metadata": {
        "colab": {
          "base_uri": "https://localhost:8080/",
          "height": 297
        },
        "id": "EMmWyL9ZJf2v",
        "outputId": "72d17341-3478-4fb0-eba9-3479ce799931"
      },
      "execution_count": null,
      "outputs": [
        {
          "output_type": "execute_result",
          "data": {
            "text/plain": [
              "<sklearn.metrics._plot.confusion_matrix.ConfusionMatrixDisplay at 0x7f4464f309d0>"
            ]
          },
          "metadata": {},
          "execution_count": 6
        },
        {
          "output_type": "display_data",
          "data": {
            "text/plain": [
              "<Figure size 432x288 with 2 Axes>"
            ],
            "image/png": "[encoded data removed]"
          },
          "metadata": {
            "needs_background": "light"
          }
        }
      ]
    },
    {
      "cell_type": "code",
      "source": [
        "# assigning values to the confusion matrix\n",
        "tn, fp, fn, tp = cm.ravel()\n",
        "\n",
        "s = '''\n",
        "True Negatives : {0}\n",
        "False Positives : {1}\n",
        "False negatives : {2}\n",
        "True Positivss : {3}\n",
        "'''.format(tn, fp, fn, tp)\n",
        "\n",
        "print(s)"
      ],
      "metadata": {
        "colab": {
          "base_uri": "https://localhost:8080/"
        },
        "id": "QrTPNqg2OLu0",
        "outputId": "6fd7060f-5278-4ccd-88c7-35ce3fa1d92c"
      },
      "execution_count": null,
      "outputs": [
        {
          "output_type": "stream",
          "name": "stdout",
          "text": [
            "\n",
            "True Negatives : 22741\n",
            "False Positives : 8\n",
            "False negatives : 16\n",
            "True Positivss : 20\n",
            "\n"
          ]
        }
      ]
    },
    {
      "cell_type": "code",
      "source": [
        "# Implementing the accuracy function \n",
        "def accuracy(tn, fp, fn, tp):\n",
        "  return ((tn+tp) / (tn+fp+fn+tp))\n",
        "\n",
        "'Accuracy : {0}'.format(accuracy(tn, fp ,fn, tp))"
      ],
      "metadata": {
        "colab": {
          "base_uri": "https://localhost:8080/",
          "height": 35
        },
        "id": "8-u1mXBSQHDD",
        "outputId": "0ed4a177-7259-407d-8f6e-3a327d8d3b9f"
      },
      "execution_count": null,
      "outputs": [
        {
          "output_type": "execute_result",
          "data": {
            "text/plain": [
              "'Accuracy : 0.9989466754443713'"
            ],
            "application/vnd.google.colaboratory.intrinsic+json": {
              "type": "string"
            }
          },
          "metadata": {},
          "execution_count": 8
        }
      ]
    },
    {
      "cell_type": "code",
      "source": [
        "#implementing the recall function (total positivity rate : True positive / total number of positives)\n",
        "\n",
        "def recall(tp, fn):\n",
        "  return tp / (tp+fn)\n",
        "R = recall(tp, fn)\n",
        "'Recall/True Positive Rate : {0}'.format(recall(tp, fn))"
      ],
      "metadata": {
        "colab": {
          "base_uri": "https://localhost:8080/",
          "height": 35
        },
        "id": "RKs5N_l9RAS4",
        "outputId": "a82c5b9a-906f-4f0a-e77e-3a93e1d0950b"
      },
      "execution_count": null,
      "outputs": [
        {
          "output_type": "execute_result",
          "data": {
            "text/plain": [
              "'Recall/True Positive Rate : 0.5555555555555556'"
            ],
            "application/vnd.google.colaboratory.intrinsic+json": {
              "type": "string"
            }
          },
          "metadata": {},
          "execution_count": 9
        }
      ]
    },
    {
      "cell_type": "code",
      "source": [
        "#implementing the specificity function or the true negative rate\n",
        "def specificity(tn ,fp):\n",
        "  return tn / (tn+fp)\n",
        "\n",
        "'Specificity : {0}'.format(specificity(tn, fp))"
      ],
      "metadata": {
        "colab": {
          "base_uri": "https://localhost:8080/",
          "height": 35
        },
        "id": "znjtQZVAST-9",
        "outputId": "eea53d3e-93a4-4f37-e843-0fb5e54d4554"
      },
      "execution_count": null,
      "outputs": [
        {
          "output_type": "execute_result",
          "data": {
            "text/plain": [
              "'Specificity : 0.9996483361906018'"
            ],
            "application/vnd.google.colaboratory.intrinsic+json": {
              "type": "string"
            }
          },
          "metadata": {},
          "execution_count": 10
        }
      ]
    },
    {
      "cell_type": "code",
      "source": [
        "#implementing precision which is the calculation of calculating total number of predicted positive values\n",
        "def precision(tp, fp):\n",
        "  return tp / (tp+fp)\n",
        "P = precision(tp, fp)\n",
        "'Precision : {0}'.format(precision(tp ,fp))"
      ],
      "metadata": {
        "colab": {
          "base_uri": "https://localhost:8080/",
          "height": 35
        },
        "id": "pqYp0gvyTWXx",
        "outputId": "4cb4e07c-13c1-47dc-e7e5-1f4e47bb87d0"
      },
      "execution_count": null,
      "outputs": [
        {
          "output_type": "execute_result",
          "data": {
            "text/plain": [
              "'Precision : 0.7142857142857143'"
            ],
            "application/vnd.google.colaboratory.intrinsic+json": {
              "type": "string"
            }
          },
          "metadata": {},
          "execution_count": 11
        }
      ]
    },
    {
      "cell_type": "code",
      "source": [
        "#implementing the f1 score\n",
        "def f1score(precision , recall):\n",
        "  return (2*precision*recall) / (precision+recall)\n",
        "\n",
        "'F1 Score : {0}'.format(f1score(P, R))"
      ],
      "metadata": {
        "colab": {
          "base_uri": "https://localhost:8080/",
          "height": 35
        },
        "id": "VBySdPNdUDkK",
        "outputId": "12e36a91-30e7-4781-cd5c-345bc2299f0a"
      },
      "execution_count": null,
      "outputs": [
        {
          "output_type": "execute_result",
          "data": {
            "text/plain": [
              "'F1 Score : 0.6250000000000001'"
            ],
            "application/vnd.google.colaboratory.intrinsic+json": {
              "type": "string"
            }
          },
          "metadata": {},
          "execution_count": 12
        }
      ]
    },
    {
      "cell_type": "code",
      "source": [
        "probabilites = model.predict_proba(X_test)[:, -1]\n",
        "probabilites"
      ],
      "metadata": {
        "colab": {
          "base_uri": "https://localhost:8080/"
        },
        "id": "SubxHiZHWPq6",
        "outputId": "e4a8cd2c-97ef-4ce6-e1ab-7d077bb467a5"
      },
      "execution_count": null,
      "outputs": [
        {
          "output_type": "execute_result",
          "data": {
            "text/plain": [
              "array([0.00012139, 0.0003532 , 0.00030147, ..., 0.00473659, 0.00017273,\n",
              "       0.00171865])"
            ]
          },
          "metadata": {},
          "execution_count": 13
        }
      ]
    },
    {
      "cell_type": "code",
      "source": [
        "#classification report\n",
        "\n",
        "from sklearn.metrics import classification_report\n",
        "\n",
        "print(classification_report(Y_test, test_predictions , labels=[0,1] , target_names = ['Not Fraud' , 'Fraud']))"
      ],
      "metadata": {
        "colab": {
          "base_uri": "https://localhost:8080/"
        },
        "id": "hi_JkNVbf4Rd",
        "outputId": "f48d9f1d-98a8-48a9-f2de-bd064ed5f03f"
      },
      "execution_count": null,
      "outputs": [
        {
          "output_type": "stream",
          "name": "stdout",
          "text": [
            "              precision    recall  f1-score   support\n",
            "\n",
            "   Not Fraud       1.00      1.00      1.00     22749\n",
            "       Fraud       0.71      0.56      0.63        36\n",
            "\n",
            "    accuracy                           1.00     22785\n",
            "   macro avg       0.86      0.78      0.81     22785\n",
            "weighted avg       1.00      1.00      1.00     22785\n",
            "\n"
          ]
        }
      ]
    },
    {
      "cell_type": "code",
      "source": [
        "# implementing matthews correlation coffecient \n",
        "\n",
        "def MCC(tn, fp ,fn, tp):\n",
        "  return  ((tp*tn) - (fp*fn)) / (np.sqrt((tp+fp)*(tp+fn)*(tn+fp)*(tn+fn)))\n",
        "\n",
        "\n",
        "'Matthews Correltion Coffecient : {0}'.format(MCC(tn, fp ,fn, tp))"
      ],
      "metadata": {
        "colab": {
          "base_uri": "https://localhost:8080/",
          "height": 35
        },
        "id": "KhL2SLcTr2dI",
        "outputId": "5a656a78-c3ac-49d2-d32d-c45ffa02cba9"
      },
      "execution_count": null,
      "outputs": [
        {
          "output_type": "execute_result",
          "data": {
            "text/plain": [
              "'Matthews Correltion Coffecient : 0.6294313746803477'"
            ],
            "application/vnd.google.colaboratory.intrinsic+json": {
              "type": "string"
            }
          },
          "metadata": {},
          "execution_count": 15
        }
      ]
    }
  ]
}